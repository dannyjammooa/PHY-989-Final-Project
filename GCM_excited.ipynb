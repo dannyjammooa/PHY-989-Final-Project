{
  "nbformat": 4,
  "nbformat_minor": 0,
  "metadata": {
    "colab": {
      "name": "GCM_excited.ipynb",
      "provenance": [],
      "collapsed_sections": [],
      "authorship_tag": "ABX9TyN7SsxzmdlV0724JpEdbmz/",
      "include_colab_link": true
    },
    "kernelspec": {
      "name": "python3",
      "display_name": "Python 3"
    },
    "language_info": {
      "name": "python"
    }
  },
  "cells": [
    {
      "cell_type": "markdown",
      "metadata": {
        "id": "view-in-github",
        "colab_type": "text"
      },
      "source": [
        "<a href=\"https://colab.research.google.com/github/dannyjammooa/PHY-989-Final-Project/blob/main/GCM_excited.ipynb\" target=\"_parent\"><img src=\"https://colab.research.google.com/assets/colab-badge.svg\" alt=\"Open In Colab\"/></a>"
      ]
    },
    {
      "cell_type": "code",
      "execution_count": 1,
      "metadata": {
        "id": "Iwt_3-Qm5mm5"
      },
      "outputs": [],
      "source": [
        "import numpy as np\n",
        "import matplotlib.pyplot as plt\n",
        "import scipy.integrate as integrate\n",
        "import scipy.special as special\n",
        "import math\n",
        "import numpy.linalg as LA \n",
        "pi=np.pi"
      ]
    },
    {
      "cell_type": "code",
      "source": [
        "def fac(k,omega):\n",
        "  n = k+omega/2\n",
        "  o = omega\n",
        "  return math.factorial(o)/(math.factorial(n)*math.factorial(o-n))\n",
        "\n",
        "def N(t1,t2,omega):\n",
        "  k = np.arange(-omega/2,omega/2+1,1)\n",
        "  L = []\n",
        "  for i in k:\n",
        "    nn = (1/2**omega)*np.exp(-1j*i*t1)*fac(i,omega)*np.exp(1j*i*t2)\n",
        "    L.append(nn)\n",
        "  return sum(L)\n",
        "\n",
        "def nk(k,omega):\n",
        "  return ((2*pi)/(2**omega))*fac(k,omega)\n",
        "\n",
        "def Ham2(t1,t2,chi,omega):\n",
        "  A1 = np.cos((t1+t2)/2)/np.cos((t1-t2)/2)\n",
        "  a2 = (1+np.sin((t1+t2)/2)**2)/np.cos((t1-t2)/2)**2\n",
        "  A2 = a2-1\n",
        "  H = -(omega/2)*N(t1,t2,omega)*(A1+(chi/2)*A2)\n",
        "  return H\n",
        "\n",
        "def integral(t1,t2,chi,omega,k1,k2):\n",
        "  b1 = np.exp(1j*k1*t1)/np.sqrt(nk(k1,omega))\n",
        "  b2 = np.exp(-1j*k2*t2)/np.sqrt(nk(k2,omega))\n",
        "  return (b1*Ham2(t1,t2,chi,omega)*b2)/(2*pi)\n",
        "\n",
        "def eigen(A):\n",
        "    eigenValues, eigenVectors = LA.eig(A)\n",
        "    idx = np.argsort(eigenValues)\n",
        "    eigenValues = eigenValues[idx]\n",
        "    eigenVectors = eigenVectors[:,idx]\n",
        "    return eigenValues"
      ],
      "metadata": {
        "id": "bFrz7rPBAbbz"
      },
      "execution_count": 2,
      "outputs": []
    },
    {
      "cell_type": "code",
      "source": [
        "chi = np.arange(0,2.1,0.1)\n",
        "omega =6\n",
        "k1 = np.arange(-omega/2,omega/2+1,1)\n",
        "k2 = np.arange(-omega/2,omega/2+1,1)\n",
        "HAM = []\n",
        "for x in chi:\n",
        "  mat = np.zeros((omega+1,omega+1))\n",
        "  for i in range(len(k1)):\n",
        "    for j in range(len(k2)):\n",
        "      result = integrate.dblquad(integral,-pi,pi,lambda t1:-pi,lambda t1:pi,args=(x,omega,k1[i],k2[j]))\n",
        "      mat[i][j] = result[0]\n",
        "  HAM.append(mat)"
      ],
      "metadata": {
        "colab": {
          "base_uri": "https://localhost:8080/"
        },
        "id": "3Lb-7q9MD6gw",
        "outputId": "88b8dfa1-bd48-466a-9c4c-1f0bdfe1f456"
      },
      "execution_count": 3,
      "outputs": [
        {
          "output_type": "stream",
          "name": "stderr",
          "text": [
            "/usr/local/lib/python3.7/dist-packages/scipy/integrate/quadpack.py:453: ComplexWarning: Casting complex values to real discards the imaginary part\n",
            "  return _quadpack._qagse(func,a,b,args,full_output,epsabs,epsrel,limit)\n"
          ]
        }
      ]
    },
    {
      "cell_type": "code",
      "source": [
        "e = [eigen(i) for i in HAM]\n",
        "e1 = [e[i][0] for i in range(len(e))]\n",
        "e2 = [e[i][1] for i in range(len(e))]\n",
        "e3 = [e[i][2] for i in range(len(e))]\n",
        "e4 = [e[i][3] for i in range(len(e))]\n",
        "e5 = [e[i][4] for i in range(len(e))]\n",
        "e6 = [e[i][5] for i in range(len(e))]\n",
        "e7 = [e[i][6] for i in range(len(e))]"
      ],
      "metadata": {
        "id": "7aw68kHBguOA"
      },
      "execution_count": 4,
      "outputs": []
    },
    {
      "cell_type": "code",
      "source": [
        "plt.plot(chi,e1)\n",
        "plt.plot(chi,e2)\n",
        "plt.plot(chi,e3)\n",
        "plt.plot(chi,e4)\n",
        "plt.plot(chi,e5)\n",
        "plt.plot(chi,e6)\n",
        "plt\n",
        "plt.xlabel('$\\chi$')\n",
        "plt.ylabel('Energy')\n",
        "plt.title('$\\Omega=6$ GCM LM')"
      ],
      "metadata": {
        "colab": {
          "base_uri": "https://localhost:8080/",
          "height": 314
        },
        "id": "hI3m4IFOhQXp",
        "outputId": "d98dd729-e6c7-4bcf-b645-badad00b7663"
      },
      "execution_count": 5,
      "outputs": [
        {
          "output_type": "execute_result",
          "data": {
            "text/plain": [
              "Text(0.5, 1.0, '$\\\\Omega=6$ GCM LM')"
            ]
          },
          "metadata": {},
          "execution_count": 5
        },
        {
          "output_type": "display_data",
          "data": {
            "text/plain": [
              "<Figure size 432x288 with 1 Axes>"
            ],
            "image/png": "[encoded data removed]"
          },
          "metadata": {
            "needs_background": "light"
          }
        }
      ]
    },
    {
      "cell_type": "code",
      "source": [
        ""
      ],
      "metadata": {
        "id": "mYOvd-XqhxRb"
      },
      "execution_count": null,
      "outputs": []
    }
  ]
}