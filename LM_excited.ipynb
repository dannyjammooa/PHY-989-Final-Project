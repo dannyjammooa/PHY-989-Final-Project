{
  "nbformat": 4,
  "nbformat_minor": 0,
  "metadata": {
    "colab": {
      "name": "LM_excited.ipynb",
      "provenance": [],
      "authorship_tag": "ABX9TyOneHLKRkGrMlez9YkQvmui",
      "include_colab_link": true
    },
    "kernelspec": {
      "name": "python3",
      "display_name": "Python 3"
    },
    "language_info": {
      "name": "python"
    }
  },
  "cells": [
    {
      "cell_type": "markdown",
      "metadata": {
        "id": "view-in-github",
        "colab_type": "text"
      },
      "source": [
        "<a href=\"https://colab.research.google.com/github/dannyjammooa/PHY-989-Final-Project/blob/main/LM_excited.ipynb\" target=\"_parent\"><img src=\"https://colab.research.google.com/assets/colab-badge.svg\" alt=\"Open In Colab\"/></a>"
      ]
    },
    {
      "cell_type": "markdown",
      "source": [
        "# Homework 2"
      ],
      "metadata": {
        "id": "Wo8SVm_Vmthb"
      }
    },
    {
      "cell_type": "code",
      "source": [
        "import numpy as np\n",
        "import cmath\n",
        "import numpy.linalg as LA\n",
        "from scipy.sparse import diags\n",
        "import pandas as pd\n",
        "import matplotlib.pyplot as plt"
      ],
      "metadata": {
        "id": "4ZWQXJLdbtu4"
      },
      "execution_count": null,
      "outputs": []
    },
    {
      "cell_type": "code",
      "source": [
        "def eigen(A):\n",
        "    eigenValues, eigenVectors = LA.eig(A)\n",
        "    idx = np.argsort(eigenValues)\n",
        "    eigenValues = eigenValues[idx]\n",
        "    eigenVectors = eigenVectors[:,idx]\n",
        "    return (eigenValues, eigenVectors) \n",
        "\n",
        "def one_body(E,N):\n",
        "  k = N/2\n",
        "  m = np.arange(-k,k+1,1)\n",
        "  return E*np.diag(m)\n",
        "\n",
        "def two_body(V,N):\n",
        "  k = N/2\n",
        "  m = np.arange(-k,k+1,1)\n",
        "  #m = np.arange(-5,k+1,1)\n",
        "  left =np.zeros(len(m)-2,dtype=complex)\n",
        "  right = np.zeros(len(m)-2,dtype=complex)\n",
        "  diag = np.zeros(len(m),dtype=complex)\n",
        "  for i in range(len(left)):\n",
        "    CG = cmath.sqrt(k*(k+1)-(m[i]+2)*(m[i]+1))*cmath.sqrt(k*(k+1)-m[i]*(m[i]+1))\n",
        "    left[i] = CG\n",
        "    right[i] = CG\n",
        "  k = [left,diag,right]\n",
        "  offset = [-2,0,2]\n",
        "  return -0.5*V*diags(k,offset).toarray()\n",
        "\n",
        "def quasi_spin(E,V,N):\n",
        "  ob = one_body(E,N)\n",
        "  tb = two_body(V,N)\n",
        "  H = ob+tb \n",
        "  e,v = eigen(H)\n",
        "  return e,H\n",
        "\n",
        "def Vp(E,omega,chi):\n",
        "  return (chi*E)/(omega-1)"
      ],
      "metadata": {
        "id": "pl2Rb6n1bulp"
      },
      "execution_count": null,
      "outputs": []
    },
    {
      "cell_type": "code",
      "source": [
        "#parameters\n",
        "E = 1\n",
        "chi = np.arange(0,2.1,0.1)\n",
        "N = 6\n",
        "\n",
        "EV0 = []\n",
        "EV1 = []\n",
        "EV2 = []\n",
        "EV3 = []\n",
        "EV4 = []\n",
        "EV5 = []\n",
        "EV6 = []\n",
        "for i in chi:\n",
        "  v = Vp(E,N,i)\n",
        "  EigenV,H = quasi_spin(E,v,N)\n",
        "  EV0.append(EigenV[0])\n",
        "  EV1.append(EigenV[1])\n",
        "  EV2.append(EigenV[2])\n",
        "  EV3.append(EigenV[3])\n",
        "  EV4.append(EigenV[4])\n",
        "  EV5.append(EigenV[5])\n",
        "  EV6.append(EigenV[6])"
      ],
      "metadata": {
        "id": "M9UTajp9bNkj"
      },
      "execution_count": null,
      "outputs": []
    },
    {
      "cell_type": "code",
      "source": [
        "print('E=1,V=0.1,Omega=12,N=12')\n",
        "print('Eigenvalues=')\n",
        "print(EigenV.real)"
      ],
      "metadata": {
        "id": "B34BYEqSB0yV",
        "outputId": "9aa44dcd-d6e0-481c-db3a-d5c69692a574",
        "colab": {
          "base_uri": "https://localhost:8080/"
        }
      },
      "execution_count": null,
      "outputs": [
        {
          "output_type": "stream",
          "name": "stdout",
          "text": [
            "E=1,V=0.1,Omega=12,N=12\n",
            "Eigenvalues=\n",
            "[-8.32111764e+00 -8.00000000e+00 -2.59980793e+00 -7.34030822e-16\n",
            "  2.59980793e+00  8.00000000e+00  8.32111764e+00]\n"
          ]
        }
      ]
    },
    {
      "cell_type": "code",
      "source": [
        "plt.plot(chi,EV0,'--',label='r=-1')\n",
        "plt.plot(chi,EV1,label='r=1')\n",
        "plt.plot(chi,EV2,'--',label='r=-1')\n",
        "plt.plot(chi,EV3,label='r=1')\n",
        "plt.plot(chi,EV4,'--',label='r=-1')\n",
        "plt.plot(chi,EV5,label='r=1')\n",
        "plt.plot(chi,EV6,'--',label='r=-1')\n",
        "plt.xlabel('$\\chi$')\n",
        "plt.ylabel('Energy')\n",
        "plt.title('$\\Omega=6$ exact Lipkin Model')\n",
        "plt.legend(bbox_to_anchor=(1.05, 1))"
      ],
      "metadata": {
        "colab": {
          "base_uri": "https://localhost:8080/",
          "height": 579
        },
        "id": "vs9iOVTgQABm",
        "outputId": "6b25cfa5-7ccd-4a0a-eb86-b21fcc54e5bf"
      },
      "execution_count": null,
      "outputs": [
        {
          "output_type": "stream",
          "name": "stderr",
          "text": [
            "/usr/local/lib/python3.7/dist-packages/matplotlib/cbook/__init__.py:1317: ComplexWarning: Casting complex values to real discards the imaginary part\n",
            "  return np.asarray(x, float)\n",
            "/usr/local/lib/python3.7/dist-packages/matplotlib/cbook/__init__.py:1317: ComplexWarning: Casting complex values to real discards the imaginary part\n",
            "  return np.asarray(x, float)\n",
            "/usr/local/lib/python3.7/dist-packages/matplotlib/cbook/__init__.py:1317: ComplexWarning: Casting complex values to real discards the imaginary part\n",
            "  return np.asarray(x, float)\n",
            "/usr/local/lib/python3.7/dist-packages/matplotlib/cbook/__init__.py:1317: ComplexWarning: Casting complex values to real discards the imaginary part\n",
            "  return np.asarray(x, float)\n",
            "/usr/local/lib/python3.7/dist-packages/matplotlib/cbook/__init__.py:1317: ComplexWarning: Casting complex values to real discards the imaginary part\n",
            "  return np.asarray(x, float)\n",
            "/usr/local/lib/python3.7/dist-packages/matplotlib/cbook/__init__.py:1317: ComplexWarning: Casting complex values to real discards the imaginary part\n",
            "  return np.asarray(x, float)\n",
            "/usr/local/lib/python3.7/dist-packages/matplotlib/cbook/__init__.py:1317: ComplexWarning: Casting complex values to real discards the imaginary part\n",
            "  return np.asarray(x, float)\n"
          ]
        },
        {
          "output_type": "execute_result",
          "data": {
            "text/plain": [
              "<matplotlib.legend.Legend at 0x7fee44763290>"
            ]
          },
          "metadata": {},
          "execution_count": 8
        },
        {
          "output_type": "display_data",
          "data": {
            "text/plain": [
              "<Figure size 432x288 with 1 Axes>"
            ],
            "image/png": "[encoded data removed]"
          },
          "metadata": {
            "needs_background": "light"
          }
        }
      ]
    },
    {
      "cell_type": "code",
      "source": [
        ""
      ],
      "metadata": {
        "id": "hLcyip7TQS4G"
      },
      "execution_count": null,
      "outputs": []
    }
  ]
}