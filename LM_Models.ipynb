{
  "nbformat": 4,
  "nbformat_minor": 0,
  "metadata": {
    "colab": {
      "name": "fproj.ipynb",
      "provenance": [],
      "authorship_tag": "ABX9TyNwxfyf1U2KZu/Rk9+cKdIG",
      "include_colab_link": true
    },
    "kernelspec": {
      "name": "python3",
      "display_name": "Python 3"
    },
    "language_info": {
      "name": "python"
    }
  },
  "cells": [
    {
      "cell_type": "markdown",
      "metadata": {
        "id": "view-in-github",
        "colab_type": "text"
      },
      "source": [
        "<a href=\"https://colab.research.google.com/github/dannyjammooa/PHY-989-Final-Project/blob/main/LM_Models.ipynb\" target=\"_parent\"><img src=\"https://colab.research.google.com/assets/colab-badge.svg\" alt=\"Open In Colab\"/></a>"
      ]
    },
    {
      "cell_type": "code",
      "execution_count": null,
      "metadata": {
        "id": "5c6qfj7nyPHy"
      },
      "outputs": [],
      "source": [
        "import numpy as np\n",
        "import cmath\n",
        "import numpy.linalg as LA\n",
        "from scipy.sparse import diags\n",
        "import pandas as pd\n",
        "import matplotlib.pyplot as plt\n",
        "from scipy.optimize import minimize\n",
        "import scipy.integrate as integrate\n",
        "import scipy.special as special\n",
        "import math\n",
        "pi=np.pi"
      ]
    },
    {
      "cell_type": "code",
      "source": [
        "def chi(V,E,omega):\n",
        "  return (V/E)*(omega-1)\n",
        "\n",
        "def Vp(E,omega,chi):\n",
        "  return (chi*E)/(omega-1)\n",
        "\n",
        "def sig(omega):\n",
        "  return np.exp(-1j*np.pi*(omega/2))\n",
        "\n",
        "###############Quasi Spin####################\n",
        "def eigen(A):\n",
        "    eigenValues, eigenVectors = LA.eig(A)\n",
        "    idx = np.argsort(eigenValues)\n",
        "    eigenValues = eigenValues[idx]\n",
        "    eigenVectors = eigenVectors[:,idx]\n",
        "    return (eigenValues, eigenVectors) \n",
        "\n",
        "def one_body(E,N):\n",
        "  k = N/2\n",
        "  m = np.arange(-k,k+1,1)\n",
        "  return E*np.diag(m)\n",
        "\n",
        "def two_body(V,N):\n",
        "  k = N/2\n",
        "  m = np.arange(-k,k+1,1)\n",
        "  left =np.zeros(len(m)-2,dtype=complex)\n",
        "  right = np.zeros(len(m)-2,dtype=complex)\n",
        "  diag = np.zeros(len(m),dtype=complex)\n",
        "  for i in range(len(left)):\n",
        "    CG = cmath.sqrt(k*(k+1)-(m[i]+2)*(m[i]+1))*cmath.sqrt(k*(k+1)-m[i]*(m[i]+1))\n",
        "    left[i] = CG\n",
        "    right[i] = CG\n",
        "  k = [left,diag,right]\n",
        "  offset = [-2,0,2]\n",
        "  return -0.5*V*diags(k,offset).toarray()\n",
        "\n",
        "def quasi_spin(E,V,N):\n",
        "  ob = one_body(E,N)\n",
        "  tb = two_body(V,N)\n",
        "  H = ob+tb \n",
        "  e,v = eigen(H)\n",
        "  return e,H\n",
        "\n",
        "############Hartee Fock##############\n",
        "def E_HF(x,E,omega):\n",
        "  if x < 1:\n",
        "    EHF = -(omega/2)*E\n",
        "  elif x >= 1:\n",
        "    EHF = -(omega/4)*E*(x+(1/x))\n",
        "  return EHF\n",
        "\n",
        "############PAV###############\n",
        "def PAV(x,E,omega,state):\n",
        "  if x < 1:\n",
        "    cos = 1\n",
        "    H= 1\n",
        "    EN = 1\n",
        "  elif x >= 1:\n",
        "    cos = 1/x\n",
        "    t2 =(x/2)*(x**2-1)\n",
        "    t1=1/x\n",
        "    H = (t1**omega)*((1/t1)+(x/2)*(x**2-1))\n",
        "    EN = (1/2)*(x+(1/x))\n",
        "  if state == 'ground': \n",
        "    bot = 1+(sig(omega)**2)*(cos**omega)\n",
        "    top = (-omega*E/2)*(EN+(sig(omega)**2)*H)\n",
        "  elif state == 'excited':\n",
        "    bot = 1-(sig(omega)**2)*(cos**omega)\n",
        "    top = (-omega*E/2)*(EN-(sig(omega)**2)*H)\n",
        "  return top/bot\n",
        "\n",
        "#############VAP#############\n",
        "#Ground State\n",
        "def VAPG(t):\n",
        "  a = (1-abs(t)**2)/(1+abs(t)**2)\n",
        "  H = (-omega*E/2)*(a**omega)*((1/a)+(2*x*t**2)/(1-abs(t)**2)**2)\n",
        "  EN = (omega*E/2)*((abs(t)**2-1)/(abs(t)**2+1)-((2*x*t**2)/(abs(t)**2+1)**2))\n",
        "\n",
        "  cos = -(abs(t)**2-1)/(abs(t)**2+1)\n",
        "  bot = 1+sig(omega)**2*cos**omega\n",
        "  top = EN+(sig(omega)**2)*H\n",
        "  return (top/bot).real\n",
        "\n",
        "#Excited State\n",
        "def VAPE(t):\n",
        "  a = (1-abs(t)**2)/(1+abs(t)**2)\n",
        "  H = (-omega*E/2)*(a**omega)*((1/a)+(2*x*t**2)/(1-abs(t)**2)**2)\n",
        "  EN = (omega*E/2)*((abs(t)**2-1)/(abs(t)**2+1)-((2*x*t**2)/(abs(t)**2+1)**2))\n",
        "\n",
        "  cos = -(abs(t)**2-1)/(abs(t)**2+1)\n",
        "  bot = 1-sig(omega)**2*cos**omega\n",
        "  top = EN-(sig(omega)**2)*H\n",
        "  return (top/bot).real\n",
        "\n",
        "### GMC###\n",
        "def fac(k,omega):\n",
        "  n = k+omega/2\n",
        "  o = omega\n",
        "  return math.factorial(o)/(math.factorial(n)*math.factorial(o-n))\n",
        "\n",
        "def N(t1,t2,omega):\n",
        "  k = np.arange(-omega/2,omega/2+1,1)\n",
        "  L = []\n",
        "  for i in k:\n",
        "    nn = (1/2**omega)*np.exp(-1j*i*t1)*fac(i,omega)*np.exp(1j*i*t2)\n",
        "    L.append(nn)\n",
        "  return sum(L)\n",
        "\n",
        "def nk(k,omega):\n",
        "  return ((2*pi)/(2**omega))*fac(k,omega)\n",
        "\n",
        "def Ham2(t1,t2,chi,omega):\n",
        "  A1 = np.cos((t1+t2)/2)/np.cos((t1-t2)/2)\n",
        "  a2 = (1+np.sin((t1+t2)/2)**2)/np.cos((t1-t2)/2)**2\n",
        "  A2 = a2-1\n",
        "  H = -(omega/2)*N(t1,t2,omega)*(A1+(chi/2)*A2)\n",
        "  return H\n",
        "\n",
        "def integral(t1,t2,chi,omega,k1,k2):\n",
        "  b1 = np.exp(1j*k1*t1)/np.sqrt(nk(k1,omega))\n",
        "  b2 = np.exp(-1j*k2*t2)/np.sqrt(nk(k2,omega))\n",
        "  return (b1*Ham2(t1,t2,chi,omega)*b2)/(2*pi)\n",
        "\n",
        "def eigen2(A):\n",
        "    eigenValues, eigenVectors = LA.eig(A)\n",
        "    idx = np.argsort(eigenValues)\n",
        "    eigenValues = eigenValues[idx]\n",
        "    eigenVectors = eigenVectors[:,idx]\n",
        "    return eigenValues"
      ],
      "metadata": {
        "id": "lGFVD07fyRjT"
      },
      "execution_count": null,
      "outputs": []
    },
    {
      "cell_type": "code",
      "source": [
        "XX = np.arange(0,2.1,0.01)\n",
        "E2 = 1\n",
        "Omega = [12,40,100,1000]\n",
        "\n",
        "\n",
        "exact =[]\n",
        "HF = []\n",
        "chix =[]\n",
        "pav = []\n",
        "vap = []\n",
        "for o in Omega:\n",
        "  ex = []\n",
        "  hf = []\n",
        "  ch = []\n",
        "  pv = []\n",
        "  vp = []\n",
        "  for xx in XX:\n",
        "    v = Vp(E2,o,xx)\n",
        "\n",
        "    E=E2\n",
        "    omega=o\n",
        "    x = xx\n",
        "    rs = minimize(VAPG,0.1)\n",
        "    par = rs.x\n",
        "\n",
        "    e,h = quasi_spin(E2,v,o)\n",
        "    ex.append(e[0].real)\n",
        "    hf.append(E_HF(xx,E2,o).real)\n",
        "    pv.append(PAV(xx,E2,o,'ground').round(3).real)\n",
        "    vp.append(VAPG(par))\n",
        "  exact.append(ex)\n",
        "  HF.append(hf)\n",
        "  chix.append(ch)\n",
        "  pav.append(pv)\n",
        "  vap.append(vp)"
      ],
      "metadata": {
        "id": "tiF0vNH0yY2B"
      },
      "execution_count": null,
      "outputs": []
    },
    {
      "cell_type": "code",
      "source": [
        "chi = np.arange(0,2.1,0.1)\n",
        "omega =12\n",
        "k1 = np.arange(-omega/2,omega/2+1,1)\n",
        "k2 = np.arange(-omega/2,omega/2+1,1)\n",
        "HAM = []\n",
        "for x in chi:\n",
        "  mat = np.zeros((omega+1,omega+1))\n",
        "  for i in range(len(k1)):\n",
        "    for j in range(len(k2)):\n",
        "      result = integrate.dblquad(integral,-pi,pi,lambda t1:-pi,lambda t1:pi,args=(x,omega,k1[i],k2[j]))\n",
        "      mat[i][j] = result[0]\n",
        "  HAM.append(mat)"
      ],
      "metadata": {
        "colab": {
          "base_uri": "https://localhost:8080/"
        },
        "id": "l9QXnuPtyaDt",
        "outputId": "57d1c71a-a141-4b7e-a7fb-8c631b083d15"
      },
      "execution_count": null,
      "outputs": [
        {
          "output_type": "stream",
          "name": "stderr",
          "text": [
            "/usr/local/lib/python3.7/dist-packages/scipy/integrate/quadpack.py:453: ComplexWarning: Casting complex values to real discards the imaginary part\n",
            "  return _quadpack._qagse(func,a,b,args,full_output,epsabs,epsrel,limit)\n",
            "/usr/local/lib/python3.7/dist-packages/scipy/integrate/quadpack.py:865: IntegrationWarning: The occurrence of roundoff error is detected, which prevents \n",
            "  the requested tolerance from being achieved.  The error may be \n",
            "  underestimated.\n",
            "  **opt)\n",
            "/usr/local/lib/python3.7/dist-packages/scipy/integrate/quadpack.py:865: IntegrationWarning: The maximum number of subdivisions (50) has been achieved.\n",
            "  If increasing the limit yields no improvement it is advised to analyze \n",
            "  the integrand in order to determine the difficulties.  If the position of a \n",
            "  local difficulty can be determined (singularity, discontinuity) one will \n",
            "  probably gain from splitting up the interval and calling the integrator \n",
            "  on the subranges.  Perhaps a special-purpose integrator should be used.\n",
            "  **opt)\n",
            "/usr/local/lib/python3.7/dist-packages/scipy/integrate/quadpack.py:865: IntegrationWarning: The algorithm does not converge.  Roundoff error is detected\n",
            "  in the extrapolation table.  It is assumed that the requested tolerance\n",
            "  cannot be achieved, and that the returned result (if full_output = 1) is \n",
            "  the best which can be obtained.\n",
            "  **opt)\n",
            "/usr/local/lib/python3.7/dist-packages/scipy/integrate/quadpack.py:865: IntegrationWarning: The integral is probably divergent, or slowly convergent.\n",
            "  **opt)\n"
          ]
        }
      ]
    },
    {
      "cell_type": "code",
      "source": [
        "e = [eigen2(i) for i in HAM]\n",
        "e1 = [e[i][0] for i in range(len(e))]"
      ],
      "metadata": {
        "id": "h286WgDvy2vU"
      },
      "execution_count": null,
      "outputs": []
    },
    {
      "cell_type": "code",
      "source": [
        "e1 = np.array(e1).reshape(len(e1))"
      ],
      "metadata": {
        "id": "tKKIDi0558sy"
      },
      "execution_count": null,
      "outputs": []
    },
    {
      "cell_type": "code",
      "source": [
        "e1"
      ],
      "metadata": {
        "colab": {
          "base_uri": "https://localhost:8080/"
        },
        "id": "I15sUm3I6TUD",
        "outputId": "7a4d2121-65b1-47cb-f1f9-ffc14ce27c49"
      },
      "execution_count": null,
      "outputs": [
        {
          "output_type": "execute_result",
          "data": {
            "text/plain": [
              "array([-6.        , -6.00273117, -6.01097169, -6.02486481, -6.04465655,\n",
              "       -6.07070658, -6.10350298, -6.14367992, -6.19203524, -6.24954275,\n",
              "       -6.3173493 , -6.39674233, -6.48907156, -6.59561452, -6.71739648,\n",
              "       -6.85500642, -7.00847293, -7.17725154, -7.36032704, -7.55638464,\n",
              "       -7.76398735])"
            ]
          },
          "metadata": {},
          "execution_count": 21
        }
      ]
    },
    {
      "cell_type": "code",
      "source": [
        "plt.plot(XX,np.array(exact[0]),label='$E_{exact}$',color='b')\n",
        "plt.plot(XX,np.array(HF[0]),label='$E_{HF}$',color='r')\n",
        "plt.plot(XX,np.array(pav[0]),label='$PAV$',color='g')\n",
        "plt.plot(XX,np.array(vap[0]),label='$VAP$',color='orange')\n",
        "plt.scatter(chi,e1,label='GCM',color='c')\n",
        "plt.axvline(1, color = 'k', linestyle='--')\n",
        "plt.ylabel('$E_{g.s}$  $(\\epsilon\\Omega/2)$')\n",
        "plt.xlabel('$\\chi$')\n",
        "plt.title(f'$\\Omega$={Omega[0]}')\n",
        "plt.legend()"
      ],
      "metadata": {
        "colab": {
          "base_uri": "https://localhost:8080/",
          "height": 314
        },
        "id": "TG78Ucgwy5ip",
        "outputId": "c7de8a91-7366-4046-a4f5-1e73646d30fe"
      },
      "execution_count": null,
      "outputs": [
        {
          "output_type": "execute_result",
          "data": {
            "text/plain": [
              "<matplotlib.legend.Legend at 0x7fb66dc2a490>"
            ]
          },
          "metadata": {},
          "execution_count": 36
        },
        {
          "output_type": "display_data",
          "data": {
            "text/plain": [
              "<Figure size 432x288 with 1 Axes>"
            ],
            "image/png": "[encoded data removed]"
          },
          "metadata": {
            "needs_background": "light"
          }
        }
      ]
    },
    {
      "cell_type": "code",
      "source": [
        "plt.plot(XX,np.array(exact[1]),label='$E_{exact}$',color='b')\n",
        "plt.plot(XX,np.array(HF[1]),label='$E_{HF}$',color='r')\n",
        "plt.plot(XX,pav[1],label='$PAV$',color='g')\n",
        "plt.plot(XX,vap[1],label='$VAP$',color='orange')\n",
        "plt.axvline(1, color = 'k', linestyle='--')\n",
        "plt.ylabel('$E_{g.s}$  $(\\epsilon\\Omega/2)$')\n",
        "plt.xlabel('$\\chi$')\n",
        "plt.title(f'$\\Omega$={Omega[1]}')\n",
        "plt.legend()"
      ],
      "metadata": {
        "colab": {
          "base_uri": "https://localhost:8080/",
          "height": 314
        },
        "id": "B9z1AaKty6pG",
        "outputId": "fac4df8d-5887-4802-beb8-2df5d361d07c"
      },
      "execution_count": null,
      "outputs": [
        {
          "output_type": "execute_result",
          "data": {
            "text/plain": [
              "<matplotlib.legend.Legend at 0x7fb66deb1110>"
            ]
          },
          "metadata": {},
          "execution_count": 33
        },
        {
          "output_type": "display_data",
          "data": {
            "text/plain": [
              "<Figure size 432x288 with 1 Axes>"
            ],
            "image/png": "[encoded data removed]"
          },
          "metadata": {
            "needs_background": "light"
          }
        }
      ]
    },
    {
      "cell_type": "code",
      "source": [
        "plt.plot(XX,np.array(exact[2]),label='$E_{exact}$',color='b')\n",
        "plt.plot(XX,np.array(HF[2]),label='$E_{HF}$',color='r')\n",
        "plt.plot(XX,pav[2],label='$PAV$',color='g')\n",
        "plt.plot(XX,vap[2],label='$VAP$',color='orange')\n",
        "plt.axvline(1, color = 'k', linestyle='--')\n",
        "plt.ylabel('$E_{g.s}$  $(\\epsilon\\Omega/2)$')\n",
        "plt.xlabel('$\\chi$')\n",
        "plt.title(f'$\\Omega$={Omega[2]}')\n",
        "plt.legend()"
      ],
      "metadata": {
        "colab": {
          "base_uri": "https://localhost:8080/",
          "height": 314
        },
        "id": "D_CyNBm2y8RT",
        "outputId": "91e1abc8-7072-4b16-b87f-f7210baa4b1a"
      },
      "execution_count": null,
      "outputs": [
        {
          "output_type": "execute_result",
          "data": {
            "text/plain": [
              "<matplotlib.legend.Legend at 0x7fb66de33d50>"
            ]
          },
          "metadata": {},
          "execution_count": 34
        },
        {
          "output_type": "display_data",
          "data": {
            "text/plain": [
              "<Figure size 432x288 with 1 Axes>"
            ],
            "image/png": "[encoded data removed]"
          },
          "metadata": {
            "needs_background": "light"
          }
        }
      ]
    },
    {
      "cell_type": "code",
      "source": [
        "plt.plot(XX,exact[3],label='$E_{exact}$',color='b')\n",
        "plt.plot(XX,HF[3],label='$E_{HF}$',color='r')\n",
        "plt.plot(XX,pav[3],label='$PAV$',color='g')\n",
        "plt.plot(XX,vap[3],label='$VAP$',color='orange')\n",
        "plt.axvline(1, color = 'k', linestyle='--')\n",
        "plt.ylabel('$E_{g.s}$  $(\\epsilon\\Omega/2)$')\n",
        "plt.xlabel('$\\chi$')\n",
        "plt.title(f'$\\Omega$={Omega[3]}')\n",
        "plt.legend()"
      ],
      "metadata": {
        "colab": {
          "base_uri": "https://localhost:8080/",
          "height": 314
        },
        "id": "5e5m0Zgky-Jt",
        "outputId": "57957f03-b1d7-48a7-f28b-9616e03abc4e"
      },
      "execution_count": null,
      "outputs": [
        {
          "output_type": "execute_result",
          "data": {
            "text/plain": [
              "<matplotlib.legend.Legend at 0x7fb66dcd21d0>"
            ]
          },
          "metadata": {},
          "execution_count": 35
        },
        {
          "output_type": "display_data",
          "data": {
            "text/plain": [
              "<Figure size 432x288 with 1 Axes>"
            ],
            "image/png": "[encoded data removed]"
          },
          "metadata": {
            "needs_background": "light"
          }
        }
      ]
    },
    {
      "cell_type": "code",
      "source": [
        ""
      ],
      "metadata": {
        "id": "zf-C2eNn5nBV"
      },
      "execution_count": null,
      "outputs": []
    }
  ]
}