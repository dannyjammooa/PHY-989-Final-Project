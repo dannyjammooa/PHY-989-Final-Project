{
 "cells": [
  {
   "cell_type": "code",
   "execution_count": 34,
   "id": "8b919f4e",
   "metadata": {},
   "outputs": [],
   "source": [
    "import numpy as np\n",
    "from numpy import linalg as LA\n",
    "from qiskit.visualization import circuit_drawer, plot_histogram, plot_state_qsphere\n",
    "import qiskit\n",
    "from qiskit.quantum_info import Statevector, DensityMatrix, entropy\n",
    "from qiskit.visualization import plot_circuit_layout\n",
    "import pandas as pd\n",
    "from matplotlib.pyplot import figure\n",
    "from qiskit import QuantumRegister, QuantumCircuit, ClassicalRegister, Aer, assemble\n",
    "from qiskit.providers.aer import noise\n",
    "from qiskit.providers.aer.noise import NoiseModel\n",
    "from qiskit.compiler import transpile\n",
    "from qiskit.providers.aer import AerSimulator\n",
    "from qiskit import IBMQ\n",
    "import pylatexenc\n",
    "from datetime import datetime\n",
    "import numpy as np\n",
    "import cmath\n",
    "import numpy.linalg as LA\n",
    "from scipy.sparse import diags\n",
    "import pandas as pd\n",
    "import matplotlib.pyplot as plt\n",
    "from scipy.optimize import minimize\n",
    "from qiskit.algorithms import VQE\n",
    "from qiskit.opflow import X, Z, I, Y\n",
    "from qiskit.circuit import Parameter\n",
    "from qiskit.aqua.components.optimizers import ADAM\n",
    "from qiskit.aqua.operators import AerPauliExpectation\n",
    "import numpy as np\n",
    "import cmath\n",
    "import numpy.linalg as LA\n",
    "from scipy.sparse import diags\n",
    "import pandas as pd\n",
    "import matplotlib.pyplot as plt\n",
    "from scipy.optimize import minimize\n",
    "import scipy.integrate as integrate\n",
    "import scipy.special as special\n",
    "import math\n",
    "import numpy.linalg as LA \n",
    "pi=np.pi"
   ]
  },
  {
   "cell_type": "code",
   "execution_count": 35,
   "id": "44903473",
   "metadata": {},
   "outputs": [
    {
     "name": "stderr",
     "output_type": "stream",
     "text": [
      "ibmqfactory.load_account:WARNING:2022-05-02 22:06:58,433: Credentials are already in use. The existing account in the session will be replaced.\n"
     ]
    }
   ],
   "source": [
    "IBMQ.save_account('4155b71f22eb3c7c385dcceb3b445f95a6f7b517d67336eac6b6bdce842c869e3fca7a5bca1d97a2331e689d3af55083ebc25b8451a028e28901936b3c5ea527',overwrite=True)\n",
    "#IBMQ.enable_account('32750a5c86c5d6e48d1a486535e773be5b95e724042a89b101a0254afd4c4660f3a0873dd9e8f7026d8b4a85527828eb0ea113ce94a282304ade64563bb2d1e4')\n",
    "IBMQ.load_account()\n",
    "provider = IBMQ.get_provider()\n",
    "IBMQC=provider.get_backend('ibmq_bogota')\n",
    "noise_model = NoiseModel.from_backend(IBMQC)\n",
    "sim = Aer.get_backend('qasm_simulator')\n",
    "vec = Aer.get_backend('statevector_simulator')\n",
    "backend = AerSimulator.from_backend(IBMQC)"
   ]
  },
  {
   "cell_type": "code",
   "execution_count": 36,
   "id": "1a437740",
   "metadata": {},
   "outputs": [],
   "source": [
    "state =AerSimulator(method='statevector',\n",
    "                        noise_model=noise_model)"
   ]
  },
  {
   "cell_type": "code",
   "execution_count": 37,
   "id": "7cf27332",
   "metadata": {},
   "outputs": [],
   "source": [
    "def chi(V,E,omega):\n",
    "  return (V/E)*(omega-1)\n",
    "\n",
    "def Vp(E,omega,chi):\n",
    "  return (chi*E)/(omega-1)\n",
    "\n",
    "def sig(omega):\n",
    "  return np.exp(-1j*np.pi*(omega/2))\n",
    "\n",
    "###############Quasi Spin####################\n",
    "def eigen(A):\n",
    "    eigenValues, eigenVectors = LA.eig(A)\n",
    "    idx = np.argsort(eigenValues)\n",
    "    eigenValues = eigenValues[idx]\n",
    "    eigenVectors = eigenVectors[:,idx]\n",
    "    return (eigenValues, eigenVectors) \n",
    "\n",
    "def one_body(E,N):\n",
    "  k = N/2\n",
    "  m = np.arange(-k,k+1,1)\n",
    "  return E*np.diag(m)\n",
    "\n",
    "def two_body(V,N):\n",
    "  k = N/2\n",
    "  m = np.arange(-k,k+1,1)\n",
    "  left =np.zeros(len(m)-2,dtype=complex)\n",
    "  right = np.zeros(len(m)-2,dtype=complex)\n",
    "  diag = np.zeros(len(m),dtype=complex)\n",
    "  for i in range(len(left)):\n",
    "    CG = cmath.sqrt(k*(k+1)-(m[i]+2)*(m[i]+1))*cmath.sqrt(k*(k+1)-m[i]*(m[i]+1))\n",
    "    left[i] = CG\n",
    "    right[i] = CG\n",
    "  k = [left,diag,right]\n",
    "  offset = [-2,0,2]\n",
    "  return -0.5*V*diags(k,offset).toarray()\n",
    "\n",
    "def quasi_spin(E,V,N):\n",
    "  ob = one_body(E,N)\n",
    "  tb = two_body(V,N)\n",
    "  H = ob+tb \n",
    "  e,v = eigen(H)\n",
    "  return e,H\n",
    "\n",
    "############Hartee Fock##############\n",
    "def E_HF(x,E,omega):\n",
    "  if x < 1:\n",
    "    EHF = -(omega/2)*E\n",
    "  elif x >= 1:\n",
    "    EHF = -(omega/4)*E*(x+(1/x))\n",
    "  return EHF\n",
    "\n",
    "############PAV###############\n",
    "def PAV(x,E,omega,state):\n",
    "  if x < 1:\n",
    "    cos = 1\n",
    "    H= 1\n",
    "    EN = 1\n",
    "  elif x >= 1:\n",
    "    cos = 1/x\n",
    "    t2 =(x/2)*(x**2-1)\n",
    "    t1=1/x\n",
    "    H = (t1**omega)*((1/t1)+(x/2)*(x**2-1))\n",
    "    EN = (1/2)*(x+(1/x))\n",
    "  if state == 'ground': \n",
    "    bot = 1+(sig(omega)**2)*(cos**omega)\n",
    "    top = (-omega*E/2)*(EN+(sig(omega)**2)*H)\n",
    "  elif state == 'excited':\n",
    "    bot = 1-(sig(omega)**2)*(cos**omega)\n",
    "    top = (-omega*E/2)*(EN-(sig(omega)**2)*H)\n",
    "  return top/bot\n",
    "\n",
    "#############VAP#############\n",
    "#Ground State\n",
    "def VAPG(t):\n",
    "  a = (1-abs(t)**2)/(1+abs(t)**2)\n",
    "  H = (-omega*E/2)*(a**omega)*((1/a)+(2*x*t**2)/(1-abs(t)**2)**2)\n",
    "  EN = (omega*E/2)*((abs(t)**2-1)/(abs(t)**2+1)-((2*x*t**2)/(abs(t)**2+1)**2))\n",
    "\n",
    "  cos = -(abs(t)**2-1)/(abs(t)**2+1)\n",
    "  bot = 1+sig(omega)**2*cos**omega\n",
    "  top = EN+(sig(omega)**2)*H\n",
    "  return (top/bot).real\n",
    "\n",
    "#Excited State\n",
    "def VAPE(t):\n",
    "  a = (1-abs(t)**2)/(1+abs(t)**2)\n",
    "  H = (-omega*E/2)*(a**omega)*((1/a)+(2*x*t**2)/(1-abs(t)**2)**2)\n",
    "  EN = (omega*E/2)*((abs(t)**2-1)/(abs(t)**2+1)-((2*x*t**2)/(abs(t)**2+1)**2))\n",
    "\n",
    "  cos = -(abs(t)**2-1)/(abs(t)**2+1)\n",
    "  bot = 1-sig(omega)**2*cos**omega\n",
    "  top = EN-(sig(omega)**2)*H\n",
    "  return (top/bot).real\n",
    "\n",
    "### GCM#######################\n",
    "def fac(k,omega):\n",
    "  n = k+omega/2\n",
    "  o = omega\n",
    "  return math.factorial(o)/(math.factorial(n)*math.factorial(o-n))\n",
    "\n",
    "def N(t1,t2,omega):\n",
    "  k = np.arange(-omega/2,omega/2+1,1)\n",
    "  L = []\n",
    "  for i in k:\n",
    "    nn = (1/2**omega)*np.exp(-1j*i*t1)*fac(i,omega)*np.exp(1j*i*t2)\n",
    "    L.append(nn)\n",
    "  return sum(L)\n",
    "\n",
    "def nk(k,omega):\n",
    "  return ((2*pi)/(2**omega))*fac(k,omega)\n",
    "\n",
    "def Ham2(t1,t2,chi,omega):\n",
    "  A1 = np.cos((t1+t2)/2)/np.cos((t1-t2)/2)\n",
    "  a2 = (1+np.sin((t1+t2)/2)**2)/np.cos((t1-t2)/2)**2\n",
    "  A2 = a2-1\n",
    "  H = -(omega/2)*N(t1,t2,omega)*(A1+(chi/2)*A2)\n",
    "  return H\n",
    "\n",
    "def integral(t1,t2,chi,omega,k1,k2):\n",
    "  b1 = np.exp(1j*k1*t1)/np.sqrt(nk(k1,omega))\n",
    "  b2 = np.exp(-1j*k2*t2)/np.sqrt(nk(k2,omega))\n",
    "  return (b1*Ham2(t1,t2,chi,omega)*b2)/(2*pi)\n",
    "\n",
    "def eigen2(A):\n",
    "    eigenValues, eigenVectors = LA.eig(A)\n",
    "    idx = np.argsort(eigenValues)\n",
    "    eigenValues = eigenValues[idx]\n",
    "    eigenVectors = eigenVectors[:,idx]\n",
    "    return eigenValues"
   ]
  },
  {
   "cell_type": "markdown",
   "id": "9499d8ed",
   "metadata": {},
   "source": [
    "# Omega =2"
   ]
  },
  {
   "cell_type": "markdown",
   "id": "de031f7c",
   "metadata": {},
   "source": [
    "## Noise"
   ]
  },
  {
   "cell_type": "code",
   "execution_count": 38,
   "id": "a17d8f02",
   "metadata": {},
   "outputs": [
    {
     "name": "stdout",
     "output_type": "stream",
     "text": [
      "1\n",
      "2\n",
      "3\n",
      "4\n",
      "5\n",
      "6\n",
      "7\n",
      "8\n",
      "9\n",
      "10\n",
      "11\n",
      "12\n",
      "13\n",
      "14\n",
      "15\n",
      "16\n",
      "17\n",
      "18\n",
      "19\n",
      "20\n",
      "21\n"
     ]
    }
   ],
   "source": [
    "#sim with noise\n",
    "theta = Parameter('theta')\n",
    "QC = QuantumCircuit(2)\n",
    "QC.ry(2*(theta-np.pi/2),0)\n",
    "QC.cnot(0,1)\n",
    "\n",
    "ep = 1\n",
    "omega = 2\n",
    "chi = np.arange(0,2.1,0.1)\n",
    "t = np.arange(-np.pi/2,np.pi/2,0.1)\n",
    "adam =qiskit.algorithms.optimizers.ADAM(maxiter=10000)\n",
    "LM2_n = []\n",
    "ccc = 0\n",
    "for x in chi:\n",
    "    ccc +=1\n",
    "    v = Vp(ep,omega,x)\n",
    "    ev = []\n",
    "    for i in range(len(t)):\n",
    "        H = 0.5 * ep * ( Z ^ I ) + \\\n",
    "           0.5 * ep * ( I ^ Z ) - \\\n",
    "           0.5 * v * ( X ^ X ) + \\\n",
    "           0.5 * v * ( Y ^ Y )\n",
    "    \n",
    "        vqe = VQE(ansatz=QC,optimizer=adam,initial_point=[t[i]],quantum_instance=backend,expectation=AerPauliExpectation())\n",
    "        result = vqe.compute_minimum_eigenvalue(H)\n",
    "\n",
    "        ev.append(result.eigenvalue)\n",
    "    LM2_n.append(min(ev))\n",
    "    print(ccc)"
   ]
  },
  {
   "cell_type": "markdown",
   "id": "3c620b1d",
   "metadata": {},
   "source": [
    "## SIM"
   ]
  },
  {
   "cell_type": "code",
   "execution_count": 39,
   "id": "a9ebbd7b",
   "metadata": {},
   "outputs": [
    {
     "name": "stdout",
     "output_type": "stream",
     "text": [
      "1\n",
      "2\n",
      "3\n",
      "4\n",
      "5\n",
      "6\n",
      "7\n",
      "8\n",
      "9\n",
      "10\n",
      "11\n",
      "12\n",
      "13\n",
      "14\n",
      "15\n",
      "16\n",
      "17\n",
      "18\n",
      "19\n",
      "20\n",
      "21\n"
     ]
    }
   ],
   "source": [
    "#simulation without noise\n",
    "theta = Parameter('theta')\n",
    "QC2s = QuantumCircuit(2)\n",
    "QC2s.ry(2*(theta-np.pi/2),0)\n",
    "QC2s.cnot(0,1)\n",
    "\n",
    "ep = 1\n",
    "omega = 2\n",
    "chi = np.arange(0,2.1,0.1)\n",
    "adam =qiskit.algorithms.optimizers.ADAM(maxiter=10000)\n",
    "LM2_sim = []\n",
    "count = 0\n",
    "for x in chi:\n",
    "    count +=1\n",
    "    v = Vp(ep,omega,x)\n",
    "    \n",
    "    H = 0.5 * ep * ( Z ^ I ) + \\\n",
    "       0.5 * ep * ( I ^ Z ) - \\\n",
    "       0.5 * v * ( X ^ X ) + \\\n",
    "       0.5 * v * ( Y ^ Y )\n",
    "    \n",
    "    vqe = VQE(ansatz=QC2s,optimizer=adam,quantum_instance=vec,expectation=AerPauliExpectation())\n",
    "    result = vqe.compute_minimum_eigenvalue(H)\n",
    "    \n",
    "    LM2_sim.append(result.eigenvalue)\n",
    "    print(count)"
   ]
  },
  {
   "cell_type": "code",
   "execution_count": 41,
   "id": "a23c1bd2",
   "metadata": {},
   "outputs": [],
   "source": [
    "XX = np.arange(0,2.1,0.01)\n",
    "E2 = 1\n",
    "Omega = [2,3]\n",
    "\n",
    "exact =[]\n",
    "HF = []\n",
    "for o in Omega:\n",
    "  ex = []\n",
    "  hf = []\n",
    "  for xx in XX:\n",
    "    v = Vp(E2,o,xx)\n",
    "\n",
    "    e,h = quasi_spin(E2,v,o)\n",
    "    ex.append(e[0].real)\n",
    "    hf.append(E_HF(xx,E2,o).real)\n",
    "  exact.append(ex)\n",
    "  HF.append(hf)"
   ]
  },
  {
   "cell_type": "code",
   "execution_count": 42,
   "id": "652e1d8c",
   "metadata": {},
   "outputs": [
    {
     "name": "stderr",
     "output_type": "stream",
     "text": [
      "C:\\Users\\danny\\anaconda3\\lib\\site-packages\\numpy\\core\\_asarray.py:171: ComplexWarning: Casting complex values to real discards the imaginary part\n",
      "  return array(a, dtype, copy=False, order=order, subok=True)\n"
     ]
    },
    {
     "data": {
      "text/plain": [
       "<matplotlib.legend.Legend at 0x1aefff06f40>"
      ]
     },
     "execution_count": 42,
     "metadata": {},
     "output_type": "execute_result"
    },
    {
     "data": {
      "image/png": "[encoded data removed]",
      "text/plain": [
       "<Figure size 432x288 with 1 Axes>"
      ]
     },
     "metadata": {
      "needs_background": "light"
     },
     "output_type": "display_data"
    }
   ],
   "source": [
    "plt.plot(XX,np.array(exact[0]),label='$E_{exact}$',color='b')\n",
    "plt.plot(XX,np.array(HF[0]),label='$E_{HF}$',color='g')\n",
    "plt.scatter(chi,LM2_sim,label='QC sim',color='cyan')\n",
    "plt.scatter(chi,LM2_n,label='QC sim with noise',color='r')\n",
    "plt.axvline(1, color = 'k', linestyle='--')\n",
    "plt.ylabel('$E_{g.s}$  $(\\epsilon\\Omega/2)$')\n",
    "plt.xlabel('$\\chi$')\n",
    "plt.title(f'$\\Omega$={Omega[0]}')\n",
    "plt.legend()"
   ]
  },
  {
   "cell_type": "code",
   "execution_count": null,
   "id": "da262754",
   "metadata": {},
   "outputs": [],
   "source": []
  }
 ],
 "metadata": {
  "kernelspec": {
   "display_name": "Python 3",
   "language": "python",
   "name": "python3"
  },
  "language_info": {
   "codemirror_mode": {
    "name": "ipython",
    "version": 3
   },
   "file_extension": ".py",
   "mimetype": "text/x-python",
   "name": "python",
   "nbconvert_exporter": "python",
   "pygments_lexer": "ipython3",
   "version": "3.8.8"
  }
 },
 "nbformat": 4,
 "nbformat_minor": 5
}
